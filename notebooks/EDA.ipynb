{
 "cells": [
  {
   "cell_type": "code",
   "execution_count": null,
   "metadata": {},
   "outputs": [],
   "source": [
    "%matplotlib inline\n",
    "%reload_ext autoreload\n",
    "%autoreload 2"
   ]
  },
  {
   "cell_type": "code",
   "execution_count": 10,
   "metadata": {},
   "outputs": [
    {
     "ename": "ModuleNotFoundError",
     "evalue": "No module named 'python_speech_features'",
     "output_type": "error",
     "traceback": [
      "\u001b[0;31m---------------------------------------------------------------------------\u001b[0m",
      "\u001b[0;31mModuleNotFoundError\u001b[0m                       Traceback (most recent call last)",
      "\u001b[0;32m<ipython-input-10-2e362a8c3910>\u001b[0m in \u001b[0;36m<module>\u001b[0;34m\u001b[0m\n\u001b[0;32m----> 1\u001b[0;31m \u001b[0;32mimport\u001b[0m \u001b[0mpython_speech_features\u001b[0m \u001b[0;32mas\u001b[0m \u001b[0mpsf\u001b[0m\u001b[0;34m\u001b[0m\u001b[0;34m\u001b[0m\u001b[0m\n\u001b[0m\u001b[1;32m      2\u001b[0m \u001b[0;32mfrom\u001b[0m \u001b[0mmatplotlib\u001b[0m \u001b[0;32mimport\u001b[0m \u001b[0mpyplot\u001b[0m \u001b[0;32mas\u001b[0m \u001b[0mplt\u001b[0m\u001b[0;34m\u001b[0m\u001b[0;34m\u001b[0m\u001b[0m\n\u001b[1;32m      3\u001b[0m \u001b[0;32mimport\u001b[0m \u001b[0mnumpy\u001b[0m \u001b[0;32mas\u001b[0m \u001b[0mnp\u001b[0m\u001b[0;34m\u001b[0m\u001b[0;34m\u001b[0m\u001b[0m\n",
      "\u001b[0;31mModuleNotFoundError\u001b[0m: No module named 'python_speech_features'"
     ]
    }
   ],
   "source": [
    "import python_speech_features as psf\n",
    "from matplotlib import pyplot as plt\n",
    "import numpy as np"
   ]
  },
  {
   "cell_type": "code",
   "execution_count": 7,
   "metadata": {},
   "outputs": [
    {
     "name": "stdout",
     "output_type": "stream",
     "text": [
      "Requirement already satisfied: librosa in /home/kkalyan/miniconda3/envs/fastaudio/lib/python3.8/site-packages (0.7.2)\n",
      "Requirement already satisfied: decorator>=3.0.0 in /home/kkalyan/miniconda3/envs/fastaudio/lib/python3.8/site-packages (from librosa) (4.4.2)\n",
      "Requirement already satisfied: scipy>=1.0.0 in /home/kkalyan/miniconda3/envs/fastaudio/lib/python3.8/site-packages (from librosa) (1.5.2)\n",
      "Requirement already satisfied: numpy>=1.15.0 in /home/kkalyan/miniconda3/envs/fastaudio/lib/python3.8/site-packages (from librosa) (1.19.1)\n",
      "Requirement already satisfied: six>=1.3 in /home/kkalyan/miniconda3/envs/fastaudio/lib/python3.8/site-packages (from librosa) (1.15.0)\n",
      "Requirement already satisfied: audioread>=2.0.0 in /home/kkalyan/miniconda3/envs/fastaudio/lib/python3.8/site-packages (from librosa) (2.1.8)\n",
      "Requirement already satisfied: numba>=0.43.0 in /home/kkalyan/miniconda3/envs/fastaudio/lib/python3.8/site-packages (from librosa) (0.48.0)\n",
      "Requirement already satisfied: scikit-learn!=0.19.0,>=0.14.0 in /home/kkalyan/miniconda3/envs/fastaudio/lib/python3.8/site-packages (from librosa) (0.23.2)\n",
      "Requirement already satisfied: soundfile>=0.9.0 in /home/kkalyan/miniconda3/envs/fastaudio/lib/python3.8/site-packages (from librosa) (0.10.2)\n",
      "Requirement already satisfied: joblib>=0.12 in /home/kkalyan/miniconda3/envs/fastaudio/lib/python3.8/site-packages (from librosa) (0.16.0)\n",
      "Requirement already satisfied: resampy>=0.2.2 in /home/kkalyan/miniconda3/envs/fastaudio/lib/python3.8/site-packages (from librosa) (0.2.2)\n",
      "Requirement already satisfied: llvmlite<0.32.0,>=0.31.0dev0 in /home/kkalyan/miniconda3/envs/fastaudio/lib/python3.8/site-packages (from numba>=0.43.0->librosa) (0.31.0)\n",
      "Requirement already satisfied: setuptools in /home/kkalyan/miniconda3/envs/fastaudio/lib/python3.8/site-packages (from numba>=0.43.0->librosa) (49.6.0.post20200814)\n",
      "Requirement already satisfied: threadpoolctl>=2.0.0 in /home/kkalyan/miniconda3/envs/fastaudio/lib/python3.8/site-packages (from scikit-learn!=0.19.0,>=0.14.0->librosa) (2.1.0)\n",
      "Requirement already satisfied: cffi>=1.0 in /home/kkalyan/miniconda3/envs/fastaudio/lib/python3.8/site-packages (from soundfile>=0.9.0->librosa) (1.14.2)\n",
      "Requirement already satisfied: pycparser in /home/kkalyan/miniconda3/envs/fastaudio/lib/python3.8/site-packages (from cffi>=1.0->soundfile>=0.9.0->librosa) (2.20)\n"
     ]
    }
   ],
   "source": [
    "!pip3 install librosa"
   ]
  },
  {
   "cell_type": "code",
   "execution_count": null,
   "metadata": {},
   "outputs": [],
   "source": []
  }
 ],
 "metadata": {
  "kernelspec": {
   "display_name": "Python 3",
   "language": "python",
   "name": "python3"
  },
  "language_info": {
   "codemirror_mode": {
    "name": "ipython",
    "version": 3
   },
   "file_extension": ".py",
   "mimetype": "text/x-python",
   "name": "python",
   "nbconvert_exporter": "python",
   "pygments_lexer": "ipython3",
   "version": "3.8.3"
  }
 },
 "nbformat": 4,
 "nbformat_minor": 4
}
